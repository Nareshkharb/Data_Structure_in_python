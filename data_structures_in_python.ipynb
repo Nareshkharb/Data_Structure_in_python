{
 "cells": [
  {
   "cell_type": "code",
   "execution_count": 2,
   "id": "e84fb9e3-18a0-4881-a7d7-bd2d13447c40",
   "metadata": {
    "scrolled": true
   },
   "outputs": [
    {
     "name": "stdin",
     "output_type": "stream",
     "text": [
      "Enter String I am Naresh\n"
     ]
    },
    {
     "name": "stdout",
     "output_type": "stream",
     "text": [
      "hseraN ma I\n"
     ]
    }
   ],
   "source": [
    "#1. Write a code to reverse a string.\n",
    "str = input(\"Enter String\")\n",
    "output = str[::-1]\n",
    "print(output)"
   ]
  },
  {
   "cell_type": "code",
   "execution_count": 20,
   "id": "2f358f4f-82ca-4db6-ab2a-6224762993fd",
   "metadata": {},
   "outputs": [
    {
     "name": "stdin",
     "output_type": "stream",
     "text": [
      "Enter string: Hello PWSKILLS\n"
     ]
    },
    {
     "name": "stdout",
     "output_type": "stream",
     "text": [
      "Number of vowels are:\n",
      "3\n"
     ]
    }
   ],
   "source": [
    "#2.Write a code to count the number of vowels in a string.\n",
    "str = input(\"Enter string:\")\n",
    "vowels = 0\n",
    "for i in str:\n",
    "      if(i=='a' or i=='e' or i=='i' or i=='o' or i=='u' or i=='A' or i=='E' or i=='I' or i=='O' or i=='U'):\n",
    "            vowels=vowels+1\n",
    "print(\"Number of vowels are:\")\n",
    "print(vowels)"
   ]
  },
  {
   "cell_type": "code",
   "execution_count": 4,
   "id": "1875ef6d-f311-4bd4-a7c7-4d5073eb7a6c",
   "metadata": {},
   "outputs": [
    {
     "name": "stdout",
     "output_type": "stream",
     "text": [
      "string is palindrome\n"
     ]
    }
   ],
   "source": [
    "#3.Write a code to check if a given string is palindrome or not.\n",
    "str = \"abccba\"\n",
    "if str[:] == str[::-1]:\n",
    "    print(\"string is palindrome\")\n",
    "else:\n",
    "    print(\"string is not palindrome\")\n"
   ]
  },
  {
   "cell_type": "code",
   "execution_count": 5,
   "id": "77eddf8a-995f-48d3-aa56-99c9347b9dfd",
   "metadata": {},
   "outputs": [
    {
     "name": "stdout",
     "output_type": "stream",
     "text": [
      "strings are not anagrams\n"
     ]
    }
   ],
   "source": [
    " #4.Write a code to check if two given strings are anagrams of each other.\n",
    "string1 = \"Naresh\"\n",
    "string2 = \"Ranesh\"\n",
    "\n",
    "if string1 == string2:\n",
    "    print(\"strings are anagrams\")\n",
    "else:\n",
    "    print(\"strings are not anagrams\")"
   ]
  },
  {
   "cell_type": "code",
   "execution_count": null,
   "id": "8e285582-2c4d-4519-824f-825532f511dd",
   "metadata": {},
   "outputs": [],
   "source": []
  },
  {
   "cell_type": "code",
   "execution_count": 6,
   "id": "7bc8ad82-b9e4-4f20-bb23-d17b3984a492",
   "metadata": {},
   "outputs": [
    {
     "name": "stdout",
     "output_type": "stream",
     "text": [
      "2\n"
     ]
    }
   ],
   "source": [
    "#5. Write a code to find all occurrences of a given substring within another string.\n",
    "string = \"Hello I am Naresh and I am studying from pwskills.\"\n",
    "sub_string = \"ll\"\n",
    "number = string.count(sub_string)\n",
    "print(number)\n",
    "    "
   ]
  },
  {
   "cell_type": "code",
   "execution_count": 1,
   "id": "81a6afeb-9479-4053-8f0e-e46eb59da2f0",
   "metadata": {},
   "outputs": [
    {
     "data": {
      "text/plain": [
       "'a2b2c2'"
      ]
     },
     "execution_count": 1,
     "metadata": {},
     "output_type": "execute_result"
    }
   ],
   "source": [
    "#6. Write a code to perform basic string compression using the count of repeated  characters.\n",
    "s = \"aabbcc\"\n",
    "compressed = []\n",
    "count = 1\n",
    "for i in range(1, len(s)):\n",
    "  if s[i] == s[i-1]:\n",
    "    count += 1\n",
    "\n",
    "  else:\n",
    "    compressed.append(s[i - 1] + str(count))\n",
    "    count = 1\n",
    "compressed.append(s[-1]+ str(count))\n",
    "\"\".join(compressed)"
   ]
  },
  {
   "cell_type": "code",
   "execution_count": 2,
   "id": "d5199fcc-223a-42b3-b6cc-56f5a1379fae",
   "metadata": {},
   "outputs": [
    {
     "name": "stdout",
     "output_type": "stream",
     "text": [
      "The string Hi I am Naresh has duplicate characters\n"
     ]
    }
   ],
   "source": [
    "#7 Write a code to determine if a string has all unique characters.\n",
    "def unique_character(str):\n",
    "    for i in range(len(str)):\n",
    "        for j in range(i+1, len(str)):\n",
    "            if (str[i] == str[j]):\n",
    "                return False;\n",
    "    return True;\n",
    "str = \"Hi I am Naresh\"\n",
    "\n",
    "if(unique_character(str)):\n",
    "    print(\"The string\", str, \"has all unique characters\")\n",
    "else:\n",
    "    print(\"The string\", str, \"has duplicate characters\")"
   ]
  },
  {
   "cell_type": "code",
   "execution_count": 3,
   "id": "49d1fc62-a441-4016-ae11-e40cde03d014",
   "metadata": {},
   "outputs": [
    {
     "name": "stdin",
     "output_type": "stream",
     "text": [
      "Enter function upper\n"
     ]
    },
    {
     "name": "stdout",
     "output_type": "stream",
     "text": [
      "ABCDEF\n"
     ]
    }
   ],
   "source": [
    "#8. Write a code to convert a given string to uppercase or lowercase.\n",
    "str = \"abcdef\"\n",
    "function = input(\"Enter function\")\n",
    "if function == \"upper\":\n",
    "    print(str.upper())\n",
    "elif function == \"lower\":\n",
    "    print(str.lower())\n",
    "else:\n",
    "    print(\"Incorrect function Provided\")"
   ]
  },
  {
   "cell_type": "code",
   "execution_count": 4,
   "id": "3b997e2d-77ee-4ca6-b3ce-3bd382a7fa46",
   "metadata": {},
   "outputs": [
    {
     "data": {
      "text/plain": [
       "4"
      ]
     },
     "execution_count": 4,
     "metadata": {},
     "output_type": "execute_result"
    }
   ],
   "source": [
    "#9 Write a code to count the number of words in a string.\n",
    "x = \"hi i am naresh\"\n",
    "y = lambda x: len(x.split())\n",
    "y(x)"
   ]
  },
  {
   "cell_type": "code",
   "execution_count": 16,
   "id": "263107b3-02a1-4f4e-9247-7043f8648ef0",
   "metadata": {},
   "outputs": [
    {
     "name": "stdin",
     "output_type": "stream",
     "text": [
      "Enter String:  hi my name is\n",
      "Enter String:  naresh\n"
     ]
    },
    {
     "name": "stdout",
     "output_type": "stream",
     "text": [
      "hi my name is naresh\n"
     ]
    }
   ],
   "source": [
    "#10. Write a code to concatenate two string without using the + operator.\n",
    "str1 = input(\"Enter String: \")\n",
    "str2 = input(\"Enter String: \")\n",
    "str3 = f'{str1} {str2}'\n",
    "print(str3)"
   ]
  },
  {
   "cell_type": "code",
   "execution_count": 15,
   "id": "69b39f08-03e9-4ae4-8e46-5989ee6f5c1b",
   "metadata": {},
   "outputs": [
    {
     "name": "stdin",
     "output_type": "stream",
     "text": [
      "Enter list:  1112345\n",
      "Enter element 1\n"
     ]
    },
    {
     "name": "stdout",
     "output_type": "stream",
     "text": [
      "['2', '3', '4', '5']\n"
     ]
    }
   ],
   "source": [
    "# 11. Write a code to remove all occurrences of a specific element from a list.\n",
    "lst = list(input(\"Enter list: \"))\n",
    "new_lst = []\n",
    "j = input(\"Enter element\")\n",
    "for i in lst:\n",
    "    if j != i:\n",
    "        new_lst.append(i)\n",
    "print(new_lst)\n",
    "        \n",
    "\n",
    "        \n",
    "    \n",
    "\n"
   ]
  },
  {
   "cell_type": "code",
   "execution_count": 5,
   "id": "d5e5881f-a38d-4aef-ac8d-eb60d9fb97bd",
   "metadata": {},
   "outputs": [
    {
     "name": "stdout",
     "output_type": "stream",
     "text": [
      "The second largest element in the list is: 45\n"
     ]
    }
   ],
   "source": [
    "# 12. Implement a code to find the second largest number in a given list of integers.\n",
    "def second_largest(input_list):\n",
    "    if len(input_list)<2:\n",
    "        return None\n",
    "\n",
    "    largest = max(input_list[0], input_list[1])\n",
    "    second_largest = min(input_list[0], input_list[1])\n",
    "    for i in range(2, len(input_list)):\n",
    "        if input_list[i] > largest:\n",
    "            second_largest = largest\n",
    "            largest = input_list[i]\n",
    "        elif input_list[i] > second_largest and input_list[i] != largest:\n",
    "            second_largest = input_list[i]\n",
    "    return second_largest\n",
    "input_list = [10, 20, 20, 4, 45, 99, 33]\n",
    "result = second_largest(input_list)\n",
    "if result is not None:\n",
    "    print(\"The second largest element in the list is:\", result)\n",
    "else:\n",
    "    print(\"List has less than 2 elements.\")\n",
    "        "
   ]
  },
  {
   "cell_type": "code",
   "execution_count": 35,
   "id": "6669a1a7-7b1b-4e82-9298-e9aff2dd90ba",
   "metadata": {},
   "outputs": [
    {
     "name": "stdin",
     "output_type": "stream",
     "text": [
      "Enter the list of numbers separated by space:  10 10 10 40 20 50 40 20 60\n"
     ]
    },
    {
     "name": "stdout",
     "output_type": "stream",
     "text": [
      "Occurrences of each element in the list:\n",
      "{10: 3, 40: 2, 20: 2, 50: 1, 60: 1}\n"
     ]
    }
   ],
   "source": [
    "# 13.Create a code to count the occurrences of each element in a list and return a dictionary with elements as keys and their couns as values.\n",
    "#defining function\n",
    "def count_occurances(lst):\n",
    "    count = {}\n",
    "    for i in lst:\n",
    "        if i in count:  #if i already in count dictionary then increasing value by 1\n",
    "            count[1] += 1\n",
    "        else:\n",
    "            count[i] = 1\n",
    "    return count\n",
    "#taking input as list and  calling function and  printing result\n",
    "input_list = [int(x) for x in input(\"Enter the list of numbers separated by space: \").split()]\n",
    "occurrences = count_occurrences(input_list)\n",
    "print(\"Occurrences of each element in the list:\")\n",
    "print(occurrences)\n"
   ]
  },
  {
   "cell_type": "code",
   "execution_count": 37,
   "id": "1cc1ba86-129e-4818-b86d-1638628b8679",
   "metadata": {},
   "outputs": [
    {
     "name": "stdin",
     "output_type": "stream",
     "text": [
      "Enter the list of numbers separated by space:  10 20 30 40 50\n"
     ]
    },
    {
     "name": "stdout",
     "output_type": "stream",
     "text": [
      "Reversed list: [50, 40, 30, 20, 10]\n"
     ]
    }
   ],
   "source": [
    "#14  Write a code to reverse a list in-place without using any built-in reverse fun%tions.\n",
    "def reverse_list(input_list):\n",
    "    # Get the length of the list\n",
    "    n = len(input_list)\n",
    "    \n",
    "    # Iterate through half of the list\n",
    "    for i in range(n // 2):\n",
    "        # Swap elements at positions i and n - i - 1\n",
    "        input_list[i], input_list[n - i - 1] = input_list[n - i - 1], input_list[i]\n",
    "\n",
    "# Test the function\n",
    "my_list = [int(x) for x in input(\"Enter the list of numbers separated by space: \").split()]\n",
    "reverse_list(my_list)\n",
    "print(\"Reversed list:\", my_list)\n"
   ]
  },
  {
   "cell_type": "code",
   "execution_count": 2,
   "id": "1faba329-a7bb-4efd-8d76-65ad6ff8c3a8",
   "metadata": {},
   "outputs": [
    {
     "name": "stdin",
     "output_type": "stream",
     "text": [
      "Enter the list of numbers separated by space:  10 10 30 20 20 50 40\n"
     ]
    },
    {
     "name": "stdout",
     "output_type": "stream",
     "text": [
      "New List is:  [10, 30, 20, 50, 40]\n"
     ]
    }
   ],
   "source": [
    "#15 Implement a code to find and remove duplicatee from a list while preserving the original order of elements.\n",
    "def remove_duplicate(lst):\n",
    "    lst1 = []\n",
    "    s =  set()  #creating set to add values to further use conditional loop\n",
    "    for i in lst:\n",
    "        if i not in s:\n",
    "            lst1.append(i)\n",
    "            s.add(i)\n",
    "        elif i in s:\n",
    "            continue\n",
    "    return lst1\n",
    "lst = [int(x) for x in input(\"Enter the list of numbers separated by space: \").split()]\n",
    "result = remove_duplicate(lst)\n",
    "print(\"New List is: \", result)\n"
   ]
  },
  {
   "cell_type": "code",
   "execution_count": 17,
   "id": "258c2491-ddeb-4931-a87e-c90d572e1f25",
   "metadata": {},
   "outputs": [
    {
     "name": "stdout",
     "output_type": "stream",
     "text": [
      "The list is not sorted\n"
     ]
    }
   ],
   "source": [
    "### 16.  Create a code to check if a given list is sorted (either in ascending or descending order) or not.\n",
    "def is_sorted(x):\n",
    "    ascending = all(x[i]<=x[i+1] for i in range(len(x)-1)) #all used to check condition for all the items in a list\n",
    "    descending = all(x[i]>=x[i+1] for i in range(len(x)-1))\n",
    "    return ascending or descending #or used to check both conditions\n",
    "\n",
    "\n",
    "lst = [4, 2, 9, 1, 5, 6]\n",
    "if is_sorted(lst):\n",
    "    print(\"The list is sorted\")\n",
    "else:\n",
    "    print(\"The list is not sorted\")\n",
    "\n",
    "\n"
   ]
  },
  {
   "cell_type": "code",
   "execution_count": 6,
   "id": "43ceb19d-7cac-46fa-825e-edc1f4c7d2bd",
   "metadata": {},
   "outputs": [
    {
     "name": "stdout",
     "output_type": "stream",
     "text": [
      "[1, 2, 3, 4, 5, 6, 7, 8]\n"
     ]
    }
   ],
   "source": [
    "#17. Write a code to merge two sorted lists into a single sorted list.\n",
    "def merge_sorted_lists(list1, list2):\n",
    "    result = []\n",
    "    i, j = 0, 0\n",
    "\n",
    "    while i < len(list1) and j < len(list2):\n",
    "        if list1[i] <= list2[j]:\n",
    "            result.append(list1[i])\n",
    "            i += 1\n",
    "        else:\n",
    "            result.append(list2[j])\n",
    "            j += 1\n",
    "\n",
    "    # append the remaining elements from either list\n",
    "    result.extend(list1[i:])\n",
    "    result.extend(list2[j:])\n",
    "\n",
    "    return result\n",
    "\n",
    "list1 = [1, 3, 5, 7]\n",
    "list2 = [2, 4, 6, 8]\n",
    "result = merge_sorted_lists(list1, list2)\n",
    "print(result)"
   ]
  },
  {
   "cell_type": "code",
   "execution_count": 2,
   "id": "3c5f2235-5df6-4136-93e4-3773c6226314",
   "metadata": {},
   "outputs": [
    {
     "name": "stdout",
     "output_type": "stream",
     "text": [
      "Intersection of list:  [2, 3, 6]\n"
     ]
    }
   ],
   "source": [
    "#18. Implement a code to find the intersection of two given lists.\n",
    "def intersection(list1, list2):\n",
    "    return [element for element in list1 if element in list2]\n",
    "list1 = [1, 2, 3, 4, 5, 6]\n",
    "list2 = [2, 3, 6, 7, 8, 9]\n",
    "result = intersection(list1, list2)\n",
    "print(\"Intersection of list: \",result)"
   ]
  },
  {
   "cell_type": "code",
   "execution_count": 5,
   "id": "3f608ab9-49b6-4cf0-a2e8-b882c6d84fa7",
   "metadata": {
    "scrolled": true
   },
   "outputs": [
    {
     "name": "stderr",
     "output_type": "stream",
     "text": [
      "C:\\Users\\nkhar\\AppData\\Local\\Programs\\Python\\Python312\\Lib\\site-packages\\IPython\\core\\inputtransformer2.py:627: UserWarning: `make_tokens_by_line` received a list of lines which do not have lineending markers ('\\n', '\\r', '\\r\\n', '\\x0b', '\\x0c'), behavior will be unspecified\n",
      "  tokens_by_line = make_tokens_by_line(lines)\n"
     ]
    },
    {
     "name": "stdin",
     "output_type": "stream",
     "text": [
      "Enter Numbers Separated by comma:  1 2 3 4 5\n",
      "Enter Numbers Separated by comma:  2 3 5 6 7\n"
     ]
    },
    {
     "name": "stdout",
     "output_type": "stream",
     "text": [
      "[1, 2, 3, 4, 5]\n",
      "[2, 3, 5, 6, 7]\n",
      "Intersection of list:  [1, 2, 3, 4, 5, 6, 7]\n"
     ]
    }
   ],
   "source": [
    "#19. Create a code to find the union of two lists without duplicate.\n",
    "def union_of_list(list1, list2):\n",
    "    return list(set(list1) | set(list2))\n",
    "list1 = input(\"Enter Numbers Separated by comma: \").split()\n",
    "input_list1 = [int(i) for i in list1]\n",
    "list2 = input(\"Enter Numbers Separated by comma: \").split()\n",
    "input_list2 = [int(i) for i in list2]\n",
    "result = union_of_list(input_list1, input_list2)\n",
    "print(input_list1)\n",
    "print(input_list2)\n",
    "print(\"Intersection of list: \",result)"
   ]
  },
  {
   "cell_type": "code",
   "execution_count": 3,
   "id": "488469a3-da79-4035-b449-754c9b9c5037",
   "metadata": {},
   "outputs": [
    {
     "name": "stdout",
     "output_type": "stream",
     "text": [
      "[3, 4, 5, 2, 1]\n"
     ]
    }
   ],
   "source": [
    "#20. Write a code to shuffle a given list randomly without using ayn built-in shuffle functions.\n",
    "\n",
    "import random\n",
    "\n",
    "def shuffle_list(lst):\n",
    "    for i in range(len(lst)):\n",
    "        j = random.randint(0, len(lst) - 1)\n",
    "        lst[i], lst[j] = lst[j], lst[i]\n",
    "    return lst\n",
    "list = [2, 5, 4, 3, 1]\n",
    "result = shuffle_list(list)\n",
    "print(result)"
   ]
  },
  {
   "cell_type": "code",
   "execution_count": 7,
   "id": "754f0975-dea4-4eb6-a646-41b747517b53",
   "metadata": {},
   "outputs": [
    {
     "name": "stdin",
     "output_type": "stream",
     "text": [
      "Enter first tuple elements separated by space:  1 2 3 4 5\n",
      "Enter second tuple elements separated by space:  3 4 2 6 7 \n"
     ]
    },
    {
     "name": "stdout",
     "output_type": "stream",
     "text": [
      "('2', '3', '4')\n"
     ]
    }
   ],
   "source": [
    "#21. Write a code that takes two tuples as input and returns a new tuple containing elements that are common to both input tuples.\n",
    "def common_elements(tuple1, tuple2):\n",
    "    return tuple([element for element in tuple1 if element in tuple2])\n",
    "\n",
    "tuple1 = tuple(input(\"Enter first tuple elements separated by space: \").split())\n",
    "tuple2 = tuple(input(\"Enter second tuple elements separated by space: \").split())\n",
    "result = common_elements(tuple1, tuple2)\n",
    "print(result)"
   ]
  },
  {
   "cell_type": "code",
   "execution_count": 8,
   "id": "8d847724-6031-4a1a-9bcf-e1fe16d138a6",
   "metadata": {},
   "outputs": [
    {
     "name": "stdin",
     "output_type": "stream",
     "text": [
      "Enter first set elements separated by space:  1 2 3 4 5\n",
      "Enter second set elements separated by space:  2 3 4 1 6\n"
     ]
    },
    {
     "name": "stdout",
     "output_type": "stream",
     "text": [
      "{'2', '1', '4', '3'}\n"
     ]
    }
   ],
   "source": [
    "# 22. Create a code that prompts the user to enter two sets of integers separated by commas. Then, print the intersection of these two sets.\n",
    "def intersection_of_sets(set1, set2):\n",
    "    return (set1 & set2)\n",
    "set1 = set(input(\"Enter first set elements separated by space: \").split())\n",
    "set2 = set(input(\"Enter second set elements separated by space: \").split())\n",
    "result = intersection_of_sets(set1, set2)\n",
    "print(result)"
   ]
  },
  {
   "cell_type": "code",
   "execution_count": 11,
   "id": "b3e036e6-72a6-4ee8-b326-69bd663690ef",
   "metadata": {},
   "outputs": [
    {
     "name": "stdin",
     "output_type": "stream",
     "text": [
      "Enter elements separated by space:  1 2 3 4 5\n",
      "Enter elements separated by space:  6 7 8 9 10\n"
     ]
    },
    {
     "name": "stdout",
     "output_type": "stream",
     "text": [
      "('1', '2', '3', '4', '5', '6', '7', '8', '9', '10')\n"
     ]
    }
   ],
   "source": [
    "#23.  Write a code to concatenate two tuples. The function should take two tuples as input and return a new tuple containing elements from both input tuples.\n",
    "def concatenate_tuples(tup1, tup2):\n",
    "    return tup1 + tup2\n",
    "tup1 = tuple(input(\"Enter elements separated by space: \").split())\n",
    "tup2 = tuple(input(\"Enter elements separated by space: \").split())\n",
    "result = concatenate_tuples(tup1, tup2)\n",
    "print(result)"
   ]
  },
  {
   "cell_type": "code",
   "execution_count": 15,
   "id": "d41f65e2-d3b6-4010-a932-835e155d6a9c",
   "metadata": {},
   "outputs": [
    {
     "name": "stdin",
     "output_type": "stream",
     "text": [
      "Enter first set elements separated by space:  hi i am naresh \n",
      "Enter second set elements separated by space:  i am studying pwskills\n"
     ]
    },
    {
     "name": "stdout",
     "output_type": "stream",
     "text": [
      "{'naresh', 'hi'}\n"
     ]
    }
   ],
   "source": [
    "#24. Develop a code that prompts the user to input two sets of strings. Then print the elements thst are present in the first set but not in the second set.\n",
    "\n",
    "def set_difference(set1, set2):\n",
    "    return set1 - set2\n",
    "set1 = set(str(input(\"Enter first set elements separated by space: \")).split())\n",
    "set2 = set(str(input(\"Enter second set elements separated by space: \")).split())\n",
    "result =  set_difference(set1, set2)\n",
    "print(result)"
   ]
  },
  {
   "cell_type": "code",
   "execution_count": 17,
   "id": "77d68656-f3d0-47c8-9cc2-9d3d249a127e",
   "metadata": {},
   "outputs": [
    {
     "name": "stdin",
     "output_type": "stream",
     "text": [
      "Enter integer: 2\n",
      "Enter integer: 5\n",
      "Enter  elements separated by spaces:  1 2 3 4 5 6 7 8 9\n"
     ]
    },
    {
     "name": "stdout",
     "output_type": "stream",
     "text": [
      "('3', '4', '5', '6')\n"
     ]
    }
   ],
   "source": [
    "#25. Create a code that takes a tuple and two integers as input. The function should return a new tuple containing elements from the original tuple within the specified range of indices.\n",
    "def new_tuple(tup, start, end):\n",
    "    return tup[start:end+1]\n",
    "start = int(input(\"Enter integer:\"))\n",
    "end = int(input(\"Enter integer:\"))\n",
    "tup = tuple(input(\"Enter  elements separated by spaces: \").split())\n",
    "result = new_tuple(tup, start, end)\n",
    "print(result)"
   ]
  },
  {
   "cell_type": "code",
   "execution_count": 23,
   "id": "54ce005c-16c2-47cf-b51b-3ffc9b07fe56",
   "metadata": {},
   "outputs": [
    {
     "name": "stdin",
     "output_type": "stream",
     "text": [
      "Enter characters: abc\n",
      "Enter characters: def\n"
     ]
    },
    {
     "name": "stdout",
     "output_type": "stream",
     "text": [
      "{'a', 'd', 'e', 'b', 'c', 'f'}\n"
     ]
    }
   ],
   "source": [
    "#26. write a code that prompts the user to input two sets of characters. Then, print the union of these two sets.\n",
    "def sets_union(set1, set2):\n",
    "    return set1 | set2\n",
    "\n",
    "set1 = set(input(\"Enter characters:\"))\n",
    "set2 = set(input(\"Enter characters:\"))\n",
    "result = sets_union(set1, set2)\n",
    "print(result)"
   ]
  },
  {
   "cell_type": "code",
   "execution_count": 8,
   "id": "e8324383-7558-4730-839a-83ecf6c5bda2",
   "metadata": {},
   "outputs": [
    {
     "name": "stdin",
     "output_type": "stream",
     "text": [
      "Enter a tuple of integers (separated by space):  1 2 3 4 5\n"
     ]
    },
    {
     "name": "stdout",
     "output_type": "stream",
     "text": [
      "Maximum value: 5\n",
      "Minimum value: 1\n"
     ]
    }
   ],
   "source": [
    "#27. Develop a code that takes a tuple of integers as input. The function should return the maximum and minimum values from the tuple using tuple unpacking.\n",
    "\n",
    "\n",
    "#Tuple unpacking is used to assign the minimum value to min_val and the maximum value to max_val. The * syntax is used to ignore all values in between.\n",
    "def find_max_min(tup):\n",
    "    min_val, *_, max_val = sorted(tup)\n",
    "    return max_val, min_val\n",
    "\n",
    "# Test the function\n",
    "tup = tuple(map(int, input(\"Enter a tuple of integers (separated by space): \").split()))\n",
    "max_value, min_value = find_max_min(numbers)\n",
    "\n",
    "print(\"Maximum value:\", max_value)\n",
    "print(\"Minimum value:\", min_value)"
   ]
  },
  {
   "cell_type": "code",
   "execution_count": 12,
   "id": "729337a2-7603-4733-8866-018c14ed3526",
   "metadata": {},
   "outputs": [
    {
     "name": "stdin",
     "output_type": "stream",
     "text": [
      "Enter first set elements separated by space:  1 2 3 4 5\n",
      "Enter second set elements separated by space:  4 5 6 7 8\n"
     ]
    },
    {
     "name": "stdout",
     "output_type": "stream",
     "text": [
      "Union: {'3', '8', '4', '1', '5', '2', '6', '7'}\n",
      "Intersection: {'5', '4'}\n",
      "Difference (set1 - set2): {'3', '1', '2'}\n",
      "Difference (set2 - set1): {'6', '8', '7'}\n"
     ]
    }
   ],
   "source": [
    "#28. Create a code that defines two sets of integers. Then print the union intersection and difference of these two sets.\n",
    "# Define the two sets of integers\n",
    "set1 = set(input(\"Enter first set elements separated by space: \").split())\n",
    "set2 = set(input(\"Enter second set elements separated by space: \").split())\n",
    "\n",
    "# Compute and print the union of the two sets\n",
    "union_set = set1.union(set2)\n",
    "print(\"Union:\", union_set)\n",
    "\n",
    "# Compute and print the intersection of the two sets\n",
    "intersection_set = set1.intersection(set2)\n",
    "print(\"Intersection:\", intersection_set)\n",
    "\n",
    "# Compute and print the difference of the two sets\n",
    "difference_set1 = set1.difference(set2)\n",
    "print(\"Difference (set1 - set2):\", difference_set1)\n",
    "\n",
    "difference_set2 = set2.difference(set1)\n",
    "print(\"Difference (set2 - set1):\", difference_set2)"
   ]
  },
  {
   "cell_type": "code",
   "execution_count": 15,
   "id": "c7042060-b4a8-4f97-b7f5-288ff21ef90c",
   "metadata": {},
   "outputs": [
    {
     "name": "stdin",
     "output_type": "stream",
     "text": [
      "Enter elements separated by space:  1 2 3 2 4 2 5 2\n",
      "Enter Number: 2\n"
     ]
    },
    {
     "name": "stdout",
     "output_type": "stream",
     "text": [
      "Count: 4\n"
     ]
    }
   ],
   "source": [
    "#29. Write a code that takes a tuple and an element as input. The function should return the count of occurrences of the given element in the tuple.\n",
    "def count_x(tup, x):\n",
    "    count = 0\n",
    "    i = 0\n",
    "    for i in range(len(tup)):\n",
    "        if tup[i] == x:\n",
    "            count +=1\n",
    "    return count\n",
    "tup = tuple(input(\"Enter elements separated by space: \").split())\n",
    "x = input(\"Enter Number:\")\n",
    "result = count_x(tup, x)\n",
    "print(\"Count:\", result)"
   ]
  },
  {
   "cell_type": "code",
   "execution_count": 22,
   "id": "9838a988-b010-4806-9d37-e76361a0e7aa",
   "metadata": {},
   "outputs": [
    {
     "name": "stdin",
     "output_type": "stream",
     "text": [
      "Enter first set elements separated by space:  apple banana kiwi orange\n",
      "Enter second set elements separated by space:  mango apple kiwi dragonfruit\n"
     ]
    },
    {
     "name": "stdout",
     "output_type": "stream",
     "text": [
      "{'mango', 'dragonfruit', 'banana', 'orange'}\n"
     ]
    }
   ],
   "source": [
    "#30. Develop a code that prompts the user to input two sets of strings. Then print the symmetric difference of these two sets.\n",
    "def asymmetric_diff(set1, set2):\n",
    "    result_set = set1 ^ set2\n",
    "    return result_set\n",
    "\n",
    "set1 = set(input(\"Enter first set strings separated by space: \").split())\n",
    "set2 = set(input(\"Enter second set strings separated by space: \").split())\n",
    "result = asymmetric_diff(set1, set2)\n",
    "print(result)"
   ]
  },
  {
   "cell_type": "code",
   "execution_count": 4,
   "id": "050a26db-5fe2-4541-b8db-943d8930ea46",
   "metadata": {},
   "outputs": [
    {
     "name": "stdin",
     "output_type": "stream",
     "text": [
      "Enter a list of words (separated by space):  hello world welcome world hello everyone\n"
     ]
    },
    {
     "name": "stdout",
     "output_type": "stream",
     "text": [
      "Word frequencies: {'hello': 2, 'world': 2, 'welcome': 1, 'everyone': 1}\n"
     ]
    }
   ],
   "source": [
    "#31. Write a code that takes a list of words as input and returns a dictionary where the keys are unique words and the values are the frequencies of those words in the input list.\n",
    "def word_frequencies(lst):\n",
    "    \"\"\"\n",
    "    Returns a dictionary where the keys are unique words and the values are the frequencies of those words in the input list.\n",
    "    \"\"\"\n",
    "    frequency_dict = {}\n",
    "    for word in lst:\n",
    "        word = word.lower()  # Convert to lowercase to ignore case differences\n",
    "        if word in frequency_dict:\n",
    "            frequency_dict[word] += 1\n",
    "        else:\n",
    "            frequency_dict[word] = 1\n",
    "    return frequency_dict\n",
    "\n",
    "lst = input(\"Enter a list of words (separated by space): \").split()\n",
    "frequency_dict = word_frequencies(lst)\n",
    "print(\"Word frequencies:\", frequency_dict)"
   ]
  },
  {
   "cell_type": "code",
   "execution_count": 8,
   "id": "35dff858-641a-434f-872f-e2c25facd3a5",
   "metadata": {},
   "outputs": [
    {
     "name": "stdin",
     "output_type": "stream",
     "text": [
      "Enter a dictionary (e.g. {'key1': 'hello world', 'key2': 'hello again'}):  {'a' : 'Naresh', 'b' : 'Vikas', 'c' : 'Aditya'}\n",
      "Enter a dictionary (e.g. {'key1': 'hello world', 'key2': 'hello again'}):  {'d' : 'Himanshu', 'e' : 'Abhinav', 'a' : 'Kharub'}\n"
     ]
    },
    {
     "name": "stdout",
     "output_type": "stream",
     "text": [
      "{'a': 'NareshKharub', 'b': 'Vikas', 'c': 'Aditya', 'd': 'Himanshu', 'e': 'Abhinav'}\n"
     ]
    }
   ],
   "source": [
    "# 32. Write a code that takes two dictionaries as input and merges them into a single dictionary. If there are common keys the values should be added together.\n",
    "def result_dict(dict1, dict2):\n",
    "    result = {}\n",
    "    for k, v in dict1.items(): #k, v defines key value pairs in dictionary\n",
    "        result[k] = v\n",
    "    for k, v in dict2.items(): #For checking id keys are similar in dict then adding the values\n",
    "        if k in result:\n",
    "            result[k] +=v\n",
    "        else:\n",
    "            result[k] = v\n",
    "    return result\n",
    "    \n",
    "\n",
    "\n",
    "dict1 = eval(input(\"Enter a dictionary (e.g. {'key1': 'hello world', 'key2': 'hello again'}): \"))\n",
    "dict2 = eval(input(\"Enter a dictionary (e.g. {'key1': 'hello world', 'key2': 'hello again'}): \"))\n",
    "merged_dict = result_dict(dict1, dict2)\n",
    "print(merged_dict)"
   ]
  },
  {
   "cell_type": "code",
   "execution_count": 11,
   "id": "172f192a-84cc-4de6-8300-d07325c6fdc9",
   "metadata": {},
   "outputs": [
    {
     "name": "stdin",
     "output_type": "stream",
     "text": [
      "Enter a nested dictionary (e.g. {'key1': {'k2' :{'k3':v}}}):   {'a': 1, 'b': {'c': 2, 'd': 3}, 'e': {'f': {'g': 4}}}\n",
      "Enter Numbers Separated by comma:  e f g\n"
     ]
    },
    {
     "name": "stdout",
     "output_type": "stream",
     "text": [
      "4\n"
     ]
    }
   ],
   "source": [
    "# 33. Write a code to access a value in a nested dictionsry. The function should take the dictionary and a list of keys as input and return the corresponding value. If any of the keys do not exist in the dictionary, the function should return None.\n",
    "def access_nested_dict(nested_dict, keys):\n",
    "    value = nested_dict\n",
    "    for key in keys:\n",
    "        if isinstance(value, dict) and key in value: #isinstance() used  to check if an object (i.e., variable) is an instance or subclass of a particular type or class\n",
    "            value = value[key]\n",
    "        else:\n",
    "            return None\n",
    "    return value\n",
    "\n",
    "\n",
    "nested_dict =  eval(input(\"Enter a nested dictionary (e.g. {'key1': {'k2' :{'k3':v}}}): \"))\n",
    "keys = input(\"Enter Numbers Separated by comma: \").split()\n",
    "keys = [i for i in keys]\n",
    "result = access_nested_dict(nested_dict, keys)\n",
    "print(result) "
   ]
  },
  {
   "cell_type": "code",
   "execution_count": 14,
   "id": "bc138192-8243-4b28-888f-21e0e01b66cc",
   "metadata": {},
   "outputs": [
    {
     "name": "stdin",
     "output_type": "stream",
     "text": [
      "Enter a dictionary (e.g. {'key1': 'hello world', 'key2': 'hello again'}):   {'apple': 5, 'banana': 2, 'cherry': 8, 'date': 1, 'elderberry': 6}\n"
     ]
    },
    {
     "name": "stdout",
     "output_type": "stream",
     "text": [
      "[('date', 1), ('banana', 2), ('apple', 5), ('elderberry', 6), ('cherry', 8)]\n",
      "[('cherry', 8), ('elderberry', 6), ('apple', 5), ('banana', 2), ('date', 1)]\n"
     ]
    }
   ],
   "source": [
    "#34.Write a code that takes a dictionary as input and returns a sorted version of it based on the values. You can choose whether to sort in ascending or descending order.\n",
    "def is_sorted(dict, reverse = False):\n",
    "    return (sorted(dict.items(), key=lambda item: item[1], reverse=reverse))\n",
    "    # reverse parameter is used to control the sorting order of the dictionary values.\n",
    "    #By using lambda item: item[1] as the key function, we're telling the sorted function to sort the dictionary items based on their values, not their keys. \n",
    "\n",
    "dict = eval(input(\"Enter a dictionary (e.g. {'key1': 'hello world', 'key2': 'hello again'}): \"))\n",
    "#for ascending \n",
    "result =  is_sorted(dict)\n",
    "print(result)\n",
    "#for descending\n",
    "result =  is_sorted(dict, reverse = True)\n",
    "print(result)"
   ]
  },
  {
   "cell_type": "code",
   "execution_count": 15,
   "id": "da2e67cb-eb5c-4218-93ee-71bee692745d",
   "metadata": {},
   "outputs": [
    {
     "name": "stdin",
     "output_type": "stream",
     "text": [
      "Enter a dictionary (e.g. {'k1': 'v1', 'k2': 'v2'}):  {'a': 1, 'b': 2, 'c': 1, 'd': 3, 'e': 2}\n"
     ]
    },
    {
     "name": "stdout",
     "output_type": "stream",
     "text": [
      "{1: ['a', 'c'], 2: ['b', 'e'], 3: ['d']}\n"
     ]
    }
   ],
   "source": [
    "# 35.Write a code that inverts a dictionary swapping keys and values. Ensure that the inverted dictionary correctly handles cases where multiple keys have the same value by storing the keys as a list in the inverted dictionary.\n",
    "def invert_dict(d):\n",
    "    inverted_d = {}\n",
    "    for k, v in d.items():\n",
    "        if v not in inverted_d:\n",
    "            inverted_d[v] = [k]\n",
    "        else:\n",
    "            inverted_d[v].append(k)\n",
    "    return inverted_d\n",
    "\n",
    "d = eval(input(\"Enter a dictionary (e.g. {'k1': 'v1', 'k2': 'v2'}): \"))\n",
    "inverted_d = invert_dict(d)\n",
    "print(inverted_d)  "
   ]
  },
  {
   "cell_type": "code",
   "execution_count": null,
   "id": "0da094b6-cf86-4227-a9f2-1636953e3721",
   "metadata": {},
   "outputs": [],
   "source": []
  }
 ],
 "metadata": {
  "kernelspec": {
   "display_name": "Python 3 (ipykernel)",
   "language": "python",
   "name": "python3"
  },
  "language_info": {
   "codemirror_mode": {
    "name": "ipython",
    "version": 3
   },
   "file_extension": ".py",
   "mimetype": "text/x-python",
   "name": "python",
   "nbconvert_exporter": "python",
   "pygments_lexer": "ipython3",
   "version": "3.12.2"
  }
 },
 "nbformat": 4,
 "nbformat_minor": 5
}
